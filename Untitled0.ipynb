{
  "nbformat": 4,
  "nbformat_minor": 0,
  "metadata": {
    "colab": {
      "name": "Untitled0.ipynb",
      "provenance": [],
      "collapsed_sections": []
    },
    "kernelspec": {
      "name": "python3",
      "display_name": "Python 3"
    }
  },
  "cells": [
    {
      "cell_type": "code",
      "metadata": {
        "id": "qqeMMN8cE-yB",
        "colab_type": "code",
        "colab": {
          "base_uri": "https://localhost:8080/",
          "height": 122
        },
        "outputId": "b028f729-df5e-4c16-ed76-74d121edf744"
      },
      "source": [
        "from google.colab import drive\n",
        "drive.mount('/content/drive')"
      ],
      "execution_count": 1,
      "outputs": [
        {
          "output_type": "stream",
          "text": [
            "Go to this URL in a browser: https://accounts.google.com/o/oauth2/auth?client_id=947318989803-6bn6qk8qdgf4n4g3pfee6491hc0brc4i.apps.googleusercontent.com&redirect_uri=urn%3aietf%3awg%3aoauth%3a2.0%3aoob&response_type=code&scope=email%20https%3a%2f%2fwww.googleapis.com%2fauth%2fdocs.test%20https%3a%2f%2fwww.googleapis.com%2fauth%2fdrive%20https%3a%2f%2fwww.googleapis.com%2fauth%2fdrive.photos.readonly%20https%3a%2f%2fwww.googleapis.com%2fauth%2fpeopleapi.readonly\n",
            "\n",
            "Enter your authorization code:\n",
            "··········\n",
            "Mounted at /content/drive\n"
          ],
          "name": "stdout"
        }
      ]
    },
    {
      "cell_type": "code",
      "metadata": {
        "id": "mOv78YJ_FgQC",
        "colab_type": "code",
        "colab": {}
      },
      "source": [
        "import numpy as np \n",
        "import seaborn as sns\n",
        "import pandas as pd"
      ],
      "execution_count": 15,
      "outputs": []
    },
    {
      "cell_type": "code",
      "metadata": {
        "id": "oym0UHvyF84b",
        "colab_type": "code",
        "colab": {}
      },
      "source": [
        "data = pd.read_csv('ex1data2.txt', names= ['Size','Bedrooms','Price'])"
      ],
      "execution_count": 33,
      "outputs": []
    },
    {
      "cell_type": "code",
      "metadata": {
        "id": "XV6mzvn7gI27",
        "colab_type": "code",
        "colab": {
          "base_uri": "https://localhost:8080/",
          "height": 204
        },
        "outputId": "fa9e9bcd-043f-4921-b597-be5fe95a0775"
      },
      "source": [
        "data.head()"
      ],
      "execution_count": 34,
      "outputs": [
        {
          "output_type": "execute_result",
          "data": {
            "text/html": [
              "<div>\n",
              "<style scoped>\n",
              "    .dataframe tbody tr th:only-of-type {\n",
              "        vertical-align: middle;\n",
              "    }\n",
              "\n",
              "    .dataframe tbody tr th {\n",
              "        vertical-align: top;\n",
              "    }\n",
              "\n",
              "    .dataframe thead th {\n",
              "        text-align: right;\n",
              "    }\n",
              "</style>\n",
              "<table border=\"1\" class=\"dataframe\">\n",
              "  <thead>\n",
              "    <tr style=\"text-align: right;\">\n",
              "      <th></th>\n",
              "      <th>Size</th>\n",
              "      <th>Bedrooms</th>\n",
              "      <th>Price</th>\n",
              "    </tr>\n",
              "  </thead>\n",
              "  <tbody>\n",
              "    <tr>\n",
              "      <th>0</th>\n",
              "      <td>2104</td>\n",
              "      <td>3</td>\n",
              "      <td>399900</td>\n",
              "    </tr>\n",
              "    <tr>\n",
              "      <th>1</th>\n",
              "      <td>1600</td>\n",
              "      <td>3</td>\n",
              "      <td>329900</td>\n",
              "    </tr>\n",
              "    <tr>\n",
              "      <th>2</th>\n",
              "      <td>2400</td>\n",
              "      <td>3</td>\n",
              "      <td>369000</td>\n",
              "    </tr>\n",
              "    <tr>\n",
              "      <th>3</th>\n",
              "      <td>1416</td>\n",
              "      <td>2</td>\n",
              "      <td>232000</td>\n",
              "    </tr>\n",
              "    <tr>\n",
              "      <th>4</th>\n",
              "      <td>3000</td>\n",
              "      <td>4</td>\n",
              "      <td>539900</td>\n",
              "    </tr>\n",
              "  </tbody>\n",
              "</table>\n",
              "</div>"
            ],
            "text/plain": [
              "   Size  Bedrooms   Price\n",
              "0  2104         3  399900\n",
              "1  1600         3  329900\n",
              "2  2400         3  369000\n",
              "3  1416         2  232000\n",
              "4  3000         4  539900"
            ]
          },
          "metadata": {
            "tags": []
          },
          "execution_count": 34
        }
      ]
    },
    {
      "cell_type": "code",
      "metadata": {
        "id": "D29rffOzF-zL",
        "colab_type": "code",
        "colab": {
          "base_uri": "https://localhost:8080/",
          "height": 204
        },
        "outputId": "4ecc8851-f873-4f53-9b92-d0bcf9ff5fd3"
      },
      "source": [
        "#Split variables and target\n",
        "X = data.iloc[:,:-1]\n",
        "y = data.iloc[:,-1]\n",
        "m = len(y)\n",
        "data.head()"
      ],
      "execution_count": 35,
      "outputs": [
        {
          "output_type": "execute_result",
          "data": {
            "text/html": [
              "<div>\n",
              "<style scoped>\n",
              "    .dataframe tbody tr th:only-of-type {\n",
              "        vertical-align: middle;\n",
              "    }\n",
              "\n",
              "    .dataframe tbody tr th {\n",
              "        vertical-align: top;\n",
              "    }\n",
              "\n",
              "    .dataframe thead th {\n",
              "        text-align: right;\n",
              "    }\n",
              "</style>\n",
              "<table border=\"1\" class=\"dataframe\">\n",
              "  <thead>\n",
              "    <tr style=\"text-align: right;\">\n",
              "      <th></th>\n",
              "      <th>Size</th>\n",
              "      <th>Bedrooms</th>\n",
              "      <th>Price</th>\n",
              "    </tr>\n",
              "  </thead>\n",
              "  <tbody>\n",
              "    <tr>\n",
              "      <th>0</th>\n",
              "      <td>2104</td>\n",
              "      <td>3</td>\n",
              "      <td>399900</td>\n",
              "    </tr>\n",
              "    <tr>\n",
              "      <th>1</th>\n",
              "      <td>1600</td>\n",
              "      <td>3</td>\n",
              "      <td>329900</td>\n",
              "    </tr>\n",
              "    <tr>\n",
              "      <th>2</th>\n",
              "      <td>2400</td>\n",
              "      <td>3</td>\n",
              "      <td>369000</td>\n",
              "    </tr>\n",
              "    <tr>\n",
              "      <th>3</th>\n",
              "      <td>1416</td>\n",
              "      <td>2</td>\n",
              "      <td>232000</td>\n",
              "    </tr>\n",
              "    <tr>\n",
              "      <th>4</th>\n",
              "      <td>3000</td>\n",
              "      <td>4</td>\n",
              "      <td>539900</td>\n",
              "    </tr>\n",
              "  </tbody>\n",
              "</table>\n",
              "</div>"
            ],
            "text/plain": [
              "   Size  Bedrooms   Price\n",
              "0  2104         3  399900\n",
              "1  1600         3  329900\n",
              "2  2400         3  369000\n",
              "3  1416         2  232000\n",
              "4  3000         4  539900"
            ]
          },
          "metadata": {
            "tags": []
          },
          "execution_count": 35
        }
      ]
    },
    {
      "cell_type": "code",
      "metadata": {
        "id": "i6HPzI6ZnPoC",
        "colab_type": "code",
        "colab": {}
      },
      "source": [
        "#Normalization \n",
        "\"\"\"Here we normalize the variable in order to speed up the gradient descent algorithm . \n",
        "    We used numpy library to make the computation in a single line rather than calculating the mean and std for each column \n",
        "    Numpy gives you capability to perform vectorized opeation in matrices \n",
        "    In the line below the mean and std is calculated for each column seperately in stored in matrices as np.mean(X) and np.std(X) so that makes only one liner for calculating\n",
        "    the normalized values \n",
        "\"\"\"\n",
        "X_norm = (X - np.mean(X))/np.std(X)"
      ],
      "execution_count": 36,
      "outputs": []
    },
    {
      "cell_type": "code",
      "metadata": {
        "id": "4Jkkx3KPirTW",
        "colab_type": "code",
        "colab": {}
      },
      "source": [
        "#Here I give you a smaller example which you can do the same math with pen and paper to validate correctness of above code\n",
        "test = pd.DataFrame({'x0' : [11,7,3], 'x1': [4,2,6]})\n",
        "test_norm = (test - np.mean(test))/np.std(test)"
      ],
      "execution_count": 37,
      "outputs": []
    },
    {
      "cell_type": "code",
      "metadata": {
        "id": "-WWsOpfKjTO2",
        "colab_type": "code",
        "colab": {}
      },
      "source": [
        "\"\"\"\"\n",
        "The hypothesis is Price = B1* Size + B2*Bedrooms + intercept(bias)\n",
        "Size and Bedrooms are already in array X_norm so we just need to add intercept into our model \n",
        "Optimal B1 and B2 will be predicted by model so do intercept just do propoer inject the above formula in the model we need to add interceps as array of ones\n",
        "\"\"\"\n",
        "intercept_term = np.ones((m,1))\n",
        "X_final = np.hstack((intercept_term,X_norm))"
      ],
      "execution_count": 38,
      "outputs": []
    },
    {
      "cell_type": "code",
      "metadata": {
        "id": "ZELA0s7Bc7JY",
        "colab_type": "code",
        "colab": {}
      },
      "source": [
        "#initialize the paramteres B0 , B1, B2\n",
        "betas = np.zeros((3,1))"
      ],
      "execution_count": 39,
      "outputs": []
    },
    {
      "cell_type": "code",
      "metadata": {
        "id": "WPEBtMJOzZTi",
        "colab_type": "code",
        "colab": {
          "base_uri": "https://localhost:8080/",
          "height": 68
        },
        "outputId": "c94c2a46-6323-4c4f-c4ef-4d53b56c97c9"
      },
      "source": [
        "##Check the final shapes of arrays\n",
        "print(X_final.shape)\n",
        "print(y.shape)\n",
        "print(betas.shape)"
      ],
      "execution_count": 43,
      "outputs": [
        {
          "output_type": "stream",
          "text": [
            "(47, 3)\n",
            "(47, 1)\n",
            "(3, 1)\n"
          ],
          "name": "stdout"
        }
      ]
    },
    {
      "cell_type": "code",
      "metadata": {
        "id": "TRKNCIBIfwjV",
        "colab_type": "code",
        "colab": {}
      },
      "source": [
        "#Change the type and the shape for the y \n",
        "y = y.reshape(len(y),1)"
      ],
      "execution_count": 44,
      "outputs": []
    },
    {
      "cell_type": "code",
      "metadata": {
        "id": "2weUMj3ilHeb",
        "colab_type": "code",
        "colab": {}
      },
      "source": [
        "def ComputeCost(X,y,betas):\n",
        "  \"\"\"\n",
        "  the difference calculated the prediction vs actual the reason there is an np.sum later as we want to sum up all differences for the the input array \n",
        "  * remember that np.dot used to calculate the difference so that still returns an array not a single number \n",
        "  the cost function for fromulas is the total square root of differences divided by the 2*number of observation. \n",
        "  '2'here is just to ease the calculation of the derivate when it comes to updating the coeffficient, it doesn`t have any effect of coefficient estimations\n",
        "  \"\"\"\n",
        "  difference = np.dot(X,betas) - y \n",
        "  return  np.sum(np.power(difference, 2)) / (2*m)"
      ],
      "execution_count": 45,
      "outputs": []
    },
    {
      "cell_type": "code",
      "metadata": {
        "id": "Lcbv_uHKlRYt",
        "colab_type": "code",
        "colab": {
          "base_uri": "https://localhost:8080/",
          "height": 34
        },
        "outputId": "0032f7df-6860-4d1b-c5b6-2e41b885f696"
      },
      "source": [
        "ComputeCost(X_final,y,betas)"
      ],
      "execution_count": 46,
      "outputs": [
        {
          "output_type": "execute_result",
          "data": {
            "text/plain": [
              "65591548106.45744"
            ]
          },
          "metadata": {
            "tags": []
          },
          "execution_count": 46
        }
      ]
    },
    {
      "cell_type": "code",
      "metadata": {
        "id": "_uQvxWial3Tg",
        "colab_type": "code",
        "colab": {}
      },
      "source": [
        "#Setup initial parameters\n",
        "iterations = 400\n",
        "alpha = 0.01"
      ],
      "execution_count": 72,
      "outputs": []
    },
    {
      "cell_type": "code",
      "metadata": {
        "id": "RingskcrhZyK",
        "colab_type": "code",
        "colab": {}
      },
      "source": [
        "def GradientDescent(X,y,betas,alpha,iterations):\n",
        "  cost_history = [] \n",
        "  for i in range(iterations):\n",
        "    #y_hat is our prediction\n",
        "    y_hat = X.dot(betas)\n",
        "    error = np.dot(X.T,(y_hat-y))\n",
        "    gradient_descent = alpha*1/m* error\n",
        "    betas = betas - gradient_descent\n",
        "    cost_history.append(ComputeCost(X,y,betas))\n",
        "  return betas, cost_history\n"
      ],
      "execution_count": 73,
      "outputs": []
    },
    {
      "cell_type": "code",
      "metadata": {
        "id": "wLCG2YJOmgm7",
        "colab_type": "code",
        "colab": {}
      },
      "source": [
        "betas, cost_history = GradientDescent(X_final,y, betas , alpha, iterations = 2)"
      ],
      "execution_count": 79,
      "outputs": []
    },
    {
      "cell_type": "code",
      "metadata": {
        "id": "gV1CNNMsuKkI",
        "colab_type": "code",
        "colab": {
          "base_uri": "https://localhost:8080/",
          "height": 34
        },
        "outputId": "015e2487-d5e9-4a70-faf7-85ea649ccbc7"
      },
      "source": [
        "cost_history"
      ],
      "execution_count": 81,
      "outputs": [
        {
          "output_type": "execute_result",
          "data": {
            "text/plain": [
              "[2043280050.6028318, 2043280050.6028323]"
            ]
          },
          "metadata": {
            "tags": []
          },
          "execution_count": 81
        }
      ]
    },
    {
      "cell_type": "code",
      "metadata": {
        "id": "rNiLVE5pHh6B",
        "colab_type": "code",
        "colab": {}
      },
      "source": [
        "df = pd.DataFrame(data, columns =['Variable', 'Target']) \n"
      ],
      "execution_count": 22,
      "outputs": []
    },
    {
      "cell_type": "code",
      "metadata": {
        "id": "oUTWI53ZGOcc",
        "colab_type": "code",
        "colab": {
          "base_uri": "https://localhost:8080/",
          "height": 816
        },
        "outputId": "fff0b8a5-42c0-4561-a046-49d16f87b228"
      },
      "source": [
        "X_final"
      ],
      "execution_count": 82,
      "outputs": [
        {
          "output_type": "execute_result",
          "data": {
            "text/plain": [
              "array([[ 1.00000000e+00,  1.31415422e-01, -2.26093368e-01],\n",
              "       [ 1.00000000e+00, -5.09640698e-01, -2.26093368e-01],\n",
              "       [ 1.00000000e+00,  5.07908699e-01, -2.26093368e-01],\n",
              "       [ 1.00000000e+00, -7.43677059e-01, -1.55439190e+00],\n",
              "       [ 1.00000000e+00,  1.27107075e+00,  1.10220517e+00],\n",
              "       [ 1.00000000e+00, -1.99450507e-02,  1.10220517e+00],\n",
              "       [ 1.00000000e+00, -5.93588523e-01, -2.26093368e-01],\n",
              "       [ 1.00000000e+00, -7.29685755e-01, -2.26093368e-01],\n",
              "       [ 1.00000000e+00, -7.89466782e-01, -2.26093368e-01],\n",
              "       [ 1.00000000e+00, -6.44465993e-01, -2.26093368e-01],\n",
              "       [ 1.00000000e+00, -7.71822042e-02,  1.10220517e+00],\n",
              "       [ 1.00000000e+00, -8.65999486e-04, -2.26093368e-01],\n",
              "       [ 1.00000000e+00, -1.40779041e-01, -2.26093368e-01],\n",
              "       [ 1.00000000e+00,  3.15099326e+00,  2.43050370e+00],\n",
              "       [ 1.00000000e+00, -9.31923697e-01, -2.26093368e-01],\n",
              "       [ 1.00000000e+00,  3.80715024e-01,  1.10220517e+00],\n",
              "       [ 1.00000000e+00, -8.65782986e-01, -1.55439190e+00],\n",
              "       [ 1.00000000e+00, -9.72625673e-01, -2.26093368e-01],\n",
              "       [ 1.00000000e+00,  7.73743478e-01,  1.10220517e+00],\n",
              "       [ 1.00000000e+00,  1.31050078e+00,  1.10220517e+00],\n",
              "       [ 1.00000000e+00, -2.97227261e-01, -2.26093368e-01],\n",
              "       [ 1.00000000e+00, -1.43322915e-01, -1.55439190e+00],\n",
              "       [ 1.00000000e+00, -5.04552951e-01, -2.26093368e-01],\n",
              "       [ 1.00000000e+00, -4.91995958e-02,  1.10220517e+00],\n",
              "       [ 1.00000000e+00,  2.40309445e+00, -2.26093368e-01],\n",
              "       [ 1.00000000e+00, -1.14560907e+00, -2.26093368e-01],\n",
              "       [ 1.00000000e+00, -6.90255715e-01, -2.26093368e-01],\n",
              "       [ 1.00000000e+00,  6.68172729e-01, -2.26093368e-01],\n",
              "       [ 1.00000000e+00,  2.53521350e-01, -2.26093368e-01],\n",
              "       [ 1.00000000e+00,  8.09357707e-01, -2.26093368e-01],\n",
              "       [ 1.00000000e+00, -2.05647815e-01, -1.55439190e+00],\n",
              "       [ 1.00000000e+00, -1.27280274e+00, -2.88269044e+00],\n",
              "       [ 1.00000000e+00,  5.00114703e-02,  1.10220517e+00],\n",
              "       [ 1.00000000e+00,  1.44532608e+00, -2.26093368e-01],\n",
              "       [ 1.00000000e+00, -2.41262044e-01,  1.10220517e+00],\n",
              "       [ 1.00000000e+00, -7.16966387e-01, -2.26093368e-01],\n",
              "       [ 1.00000000e+00, -9.68809863e-01, -2.26093368e-01],\n",
              "       [ 1.00000000e+00,  1.67029651e-01,  1.10220517e+00],\n",
              "       [ 1.00000000e+00,  2.81647389e+00,  1.10220517e+00],\n",
              "       [ 1.00000000e+00,  2.05187753e-01,  1.10220517e+00],\n",
              "       [ 1.00000000e+00, -4.28236746e-01, -1.55439190e+00],\n",
              "       [ 1.00000000e+00,  3.01854946e-01, -2.26093368e-01],\n",
              "       [ 1.00000000e+00,  7.20322135e-01,  1.10220517e+00],\n",
              "       [ 1.00000000e+00, -1.01841540e+00, -2.26093368e-01],\n",
              "       [ 1.00000000e+00, -1.46104938e+00, -1.55439190e+00],\n",
              "       [ 1.00000000e+00, -1.89112638e-01,  1.10220517e+00],\n",
              "       [ 1.00000000e+00, -1.01459959e+00, -2.26093368e-01]])"
            ]
          },
          "metadata": {
            "tags": []
          },
          "execution_count": 82
        }
      ]
    },
    {
      "cell_type": "code",
      "metadata": {
        "id": "BkybAzh3GQ_I",
        "colab_type": "code",
        "colab": {
          "base_uri": "https://localhost:8080/",
          "height": 280
        },
        "outputId": "7f8f15fa-ddb8-4ddc-c008-2db5cadfdbf3"
      },
      "source": [
        "ax = sns.scatterplot(x='Variable' , y='Target', data=df)"
      ],
      "execution_count": 25,
      "outputs": [
        {
          "output_type": "display_data",
          "data": {
            "image/png": "[encoded data removed]",
            "text/plain": [
              "<Figure size 432x288 with 1 Axes>"
            ]
          },
          "metadata": {
            "tags": [],
            "needs_background": "light"
          }
        }
      ]
    },
    {
      "cell_type": "code",
      "metadata": {
        "id": "5hK2sLl9M02C",
        "colab_type": "code",
        "colab": {
          "base_uri": "https://localhost:8080/",
          "height": 293
        },
        "outputId": "b00e26bd-25bb-4ba7-c9db-d3930d43fe50"
      },
      "source": [
        "import matplotlib.pyplot as plt \n",
        "plt.plot(cost_history)"
      ],
      "execution_count": 82,
      "outputs": [
        {
          "output_type": "execute_result",
          "data": {
            "text/plain": [
              "[<matplotlib.lines.Line2D at 0x7fc111a6d0b8>]"
            ]
          },
          "metadata": {
            "tags": []
          },
          "execution_count": 82
        },
        {
          "output_type": "display_data",
          "data": {
            "image/png": "[encoded data removed]",
            "text/plain": [
              "<Figure size 432x288 with 1 Axes>"
            ]
          },
          "metadata": {
            "tags": [],
            "needs_background": "light"
          }
        }
      ]
    },
    {
      "cell_type": "code",
      "metadata": {
        "id": "6ZxXQyDiajXW",
        "colab_type": "code",
        "colab": {
          "base_uri": "https://localhost:8080/",
          "height": 334
        },
        "outputId": "235d3f0a-026c-415c-d2bc-c5f120bf71ff"
      },
      "source": [
        " J = ComputeCost(X,y, theta)\n",
        "print(J)"
      ],
      "execution_count": 58,
      "outputs": [
        {
          "output_type": "error",
          "ename": "ValueError",
          "evalue": "ignored",
          "traceback": [
            "\u001b[0;31m---------------------------------------------------------------------------\u001b[0m",
            "\u001b[0;31mValueError\u001b[0m                                Traceback (most recent call last)",
            "\u001b[0;32m<ipython-input-58-c3f5391b0036>\u001b[0m in \u001b[0;36m<module>\u001b[0;34m()\u001b[0m\n\u001b[0;32m----> 1\u001b[0;31m \u001b[0mJ\u001b[0m \u001b[0;34m=\u001b[0m \u001b[0mComputeCost\u001b[0m\u001b[0;34m(\u001b[0m\u001b[0mX\u001b[0m\u001b[0;34m,\u001b[0m\u001b[0my\u001b[0m\u001b[0;34m,\u001b[0m \u001b[0mtheta\u001b[0m\u001b[0;34m)\u001b[0m\u001b[0;34m\u001b[0m\u001b[0;34m\u001b[0m\u001b[0m\n\u001b[0m\u001b[1;32m      2\u001b[0m \u001b[0mprint\u001b[0m\u001b[0;34m(\u001b[0m\u001b[0mJ\u001b[0m\u001b[0;34m)\u001b[0m\u001b[0;34m\u001b[0m\u001b[0;34m\u001b[0m\u001b[0m\n",
            "\u001b[0;32m<ipython-input-57-9202369bff1d>\u001b[0m in \u001b[0;36mComputeCost\u001b[0;34m(X, y, theta)\u001b[0m\n\u001b[1;32m      1\u001b[0m \u001b[0;31m##How to Compute the cost function\u001b[0m\u001b[0;34m\u001b[0m\u001b[0;34m\u001b[0m\u001b[0;34m\u001b[0m\u001b[0m\n\u001b[1;32m      2\u001b[0m \u001b[0;32mdef\u001b[0m \u001b[0mComputeCost\u001b[0m\u001b[0;34m(\u001b[0m\u001b[0mX\u001b[0m\u001b[0;34m,\u001b[0m\u001b[0my\u001b[0m\u001b[0;34m,\u001b[0m\u001b[0mtheta\u001b[0m\u001b[0;34m)\u001b[0m\u001b[0;34m:\u001b[0m\u001b[0;34m\u001b[0m\u001b[0;34m\u001b[0m\u001b[0m\n\u001b[0;32m----> 3\u001b[0;31m   \u001b[0mdifference\u001b[0m \u001b[0;34m=\u001b[0m \u001b[0mnp\u001b[0m\u001b[0;34m.\u001b[0m\u001b[0mdot\u001b[0m\u001b[0;34m(\u001b[0m\u001b[0mX\u001b[0m\u001b[0;34m,\u001b[0m \u001b[0mtheta\u001b[0m\u001b[0;34m)\u001b[0m \u001b[0;34m-\u001b[0m \u001b[0my\u001b[0m\u001b[0;34m\u001b[0m\u001b[0;34m\u001b[0m\u001b[0m\n\u001b[0m\u001b[1;32m      4\u001b[0m   \u001b[0;32mreturn\u001b[0m \u001b[0mnp\u001b[0m\u001b[0;34m.\u001b[0m\u001b[0msum\u001b[0m\u001b[0;34m(\u001b[0m\u001b[0mnp\u001b[0m\u001b[0;34m.\u001b[0m\u001b[0mpower\u001b[0m\u001b[0;34m(\u001b[0m\u001b[0mtemp\u001b[0m\u001b[0;34m,\u001b[0m\u001b[0;36m2\u001b[0m\u001b[0;34m)\u001b[0m\u001b[0;34m)\u001b[0m \u001b[0;34m/\u001b[0m \u001b[0;34m(\u001b[0m\u001b[0;36m2\u001b[0m\u001b[0;34m*\u001b[0m\u001b[0mm\u001b[0m\u001b[0;34m)\u001b[0m\u001b[0;34m\u001b[0m\u001b[0;34m\u001b[0m\u001b[0m\n\u001b[1;32m      5\u001b[0m \u001b[0;34m\u001b[0m\u001b[0m\n",
            "\u001b[0;32m<__array_function__ internals>\u001b[0m in \u001b[0;36mdot\u001b[0;34m(*args, **kwargs)\u001b[0m\n",
            "\u001b[0;31mValueError\u001b[0m: shapes (3,) and (2,) not aligned: 3 (dim 0) != 2 (dim 0)"
          ]
        }
      ]
    }
  ]
}